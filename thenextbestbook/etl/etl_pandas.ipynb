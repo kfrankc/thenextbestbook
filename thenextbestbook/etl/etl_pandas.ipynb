{
 "cells": [
  {
   "cell_type": "code",
   "execution_count": 3,
   "metadata": {
    "collapsed": false
   },
   "outputs": [],
   "source": [
    "import pandas as pd\n",
    "import gzip"
   ]
  },
  {
   "cell_type": "code",
   "execution_count": 79,
   "metadata": {
    "collapsed": true
   },
   "outputs": [],
   "source": [
    "def parse(path):\n",
    "    g = gzip.open(path, 'rb')\n",
    "    for l in g:\n",
    "        yield eval(l)\n",
    "\n",
    "def getDF(path, start_iter, end_iter):\n",
    "    i = 0\n",
    "    j = 0\n",
    "    df = {}\n",
    "    for d in parse(path):\n",
    "        if (i <= start_iter):\n",
    "            i += 1\n",
    "            continue\n",
    "        if (i > end_iter):\n",
    "            break\n",
    "        df[j] = d\n",
    "        if (j % 100000 == 0):\n",
    "            print(\"iteration: {}\".format(j))\n",
    "        j += 1\n",
    "        i += 1\n",
    "    return pd.DataFrame.from_dict(df, orient='index')"
   ]
  },
  {
   "cell_type": "code",
   "execution_count": 91,
   "metadata": {
    "collapsed": false
   },
   "outputs": [
    {
     "name": "stdout",
     "output_type": "stream",
     "text": [
      "iteration: 0\n",
      "iteration: 100000\n",
      "iteration: 200000\n",
      "iteration: 300000\n",
      "iteration: 400000\n",
      "iteration: 500000\n",
      "iteration: 600000\n",
      "iteration: 700000\n",
      "iteration: 800000\n"
     ]
    }
   ],
   "source": [
    "df_pt1 = getDF('/Users/frankchen/Desktop/reviews_Books_5.json.gz', 8000000, 8898041)\n",
    "df_pt1.to_pickle('amazon_book_data_8.pkl')"
   ]
  },
  {
   "cell_type": "code",
   "execution_count": 78,
   "metadata": {
    "collapsed": false
   },
   "outputs": [
    {
     "data": {
      "text/plain": [
       "(11, 9)"
      ]
     },
     "execution_count": 78,
     "metadata": {},
     "output_type": "execute_result"
    }
   ],
   "source": [
    "df_pt1.shape"
   ]
  },
  {
   "cell_type": "code",
   "execution_count": 68,
   "metadata": {
    "collapsed": false
   },
   "outputs": [
    {
     "ename": "KeyboardInterrupt",
     "evalue": "",
     "output_type": "error",
     "traceback": [
      "\u001b[0;31m---------------------------------------------------------------------------\u001b[0m",
      "\u001b[0;31mKeyboardInterrupt\u001b[0m                         Traceback (most recent call last)",
      "\u001b[0;32m/Library/Frameworks/Python.framework/Versions/3.6/lib/python3.6/site-packages/zmq/backend/cython/checkrc.pxd\u001b[0m in \u001b[0;36mzmq.backend.cython.checkrc._check_rc\u001b[0;34m()\u001b[0m\n",
      "\u001b[0;31mKeyboardInterrupt\u001b[0m: "
     ]
    },
    {
     "name": "stderr",
     "output_type": "stream",
     "text": [
      "Exception ignored in: 'zmq.backend.cython.message.Frame.__dealloc__'\n",
      "Traceback (most recent call last):\n",
      "  File \"zmq/backend/cython/checkrc.pxd\", line 12, in zmq.backend.cython.checkrc._check_rc\n",
      "KeyboardInterrupt\n"
     ]
    }
   ],
   "source": [
    "df_pt1 = pd.read_pickle(\"amazon_book_data_1.pkl\")"
   ]
  },
  {
   "cell_type": "code",
   "execution_count": 90,
   "metadata": {
    "collapsed": false
   },
   "outputs": [
    {
     "data": {
      "text/html": [
       "<div>\n",
       "<style scoped>\n",
       "    .dataframe tbody tr th:only-of-type {\n",
       "        vertical-align: middle;\n",
       "    }\n",
       "\n",
       "    .dataframe tbody tr th {\n",
       "        vertical-align: top;\n",
       "    }\n",
       "\n",
       "    .dataframe thead th {\n",
       "        text-align: right;\n",
       "    }\n",
       "</style>\n",
       "<table border=\"1\" class=\"dataframe\">\n",
       "  <thead>\n",
       "    <tr style=\"text-align: right;\">\n",
       "      <th></th>\n",
       "      <th>reviewerID</th>\n",
       "      <th>asin</th>\n",
       "      <th>reviewerName</th>\n",
       "      <th>helpful</th>\n",
       "      <th>reviewText</th>\n",
       "      <th>overall</th>\n",
       "      <th>summary</th>\n",
       "      <th>unixReviewTime</th>\n",
       "      <th>reviewTime</th>\n",
       "    </tr>\n",
       "  </thead>\n",
       "  <tbody>\n",
       "    <tr>\n",
       "      <th>0</th>\n",
       "      <td>A3DYUOR91TPV64</td>\n",
       "      <td>1612432379</td>\n",
       "      <td>Patricia Todd-Dennis \"swanniegirl\"</td>\n",
       "      <td>[2, 2]</td>\n",
       "      <td>Stop what you are doing right now.  Do you hav...</td>\n",
       "      <td>5.0</td>\n",
       "      <td>This Is Just The Cookbook For An Adventurer!</td>\n",
       "      <td>1384560000</td>\n",
       "      <td>11 16, 2013</td>\n",
       "    </tr>\n",
       "    <tr>\n",
       "      <th>1</th>\n",
       "      <td>A1ETQV3DF7X9C8</td>\n",
       "      <td>1612432441</td>\n",
       "      <td>Bernard W. Martin \"Bernie Martin\"</td>\n",
       "      <td>[0, 0]</td>\n",
       "      <td>A romance language would help learn like Frenc...</td>\n",
       "      <td>5.0</td>\n",
       "      <td>It is imperative for grandchildren to learn ot...</td>\n",
       "      <td>1389139200</td>\n",
       "      <td>01 8, 2014</td>\n",
       "    </tr>\n",
       "    <tr>\n",
       "      <th>2</th>\n",
       "      <td>A1X8JK7GINGMXA</td>\n",
       "      <td>1612432441</td>\n",
       "      <td>Melissa</td>\n",
       "      <td>[0, 0]</td>\n",
       "      <td>For someone that loves French or for a student...</td>\n",
       "      <td>5.0</td>\n",
       "      <td>Great unique gift</td>\n",
       "      <td>1391126400</td>\n",
       "      <td>01 31, 2014</td>\n",
       "    </tr>\n",
       "    <tr>\n",
       "      <th>3</th>\n",
       "      <td>A2VFQR6Y4VEKSQ</td>\n",
       "      <td>1612432441</td>\n",
       "      <td>Moonslice \"(the world's fish tank)\"</td>\n",
       "      <td>[2, 2]</td>\n",
       "      <td>I'm using this to learn French better and it's...</td>\n",
       "      <td>5.0</td>\n",
       "      <td>Great for Learning French, Cute Stocking Stuffer</td>\n",
       "      <td>1384819200</td>\n",
       "      <td>11 19, 2013</td>\n",
       "    </tr>\n",
       "    <tr>\n",
       "      <th>4</th>\n",
       "      <td>A2RMD12V8QKV1E</td>\n",
       "      <td>1612432441</td>\n",
       "      <td>Parent-twokids \"Father of two little ones\"</td>\n",
       "      <td>[1, 1]</td>\n",
       "      <td>I am French and this book is my 6 year old gir...</td>\n",
       "      <td>5.0</td>\n",
       "      <td>Nice translation and a nice way to enjoy a cla...</td>\n",
       "      <td>1388793600</td>\n",
       "      <td>01 4, 2014</td>\n",
       "    </tr>\n",
       "  </tbody>\n",
       "</table>\n",
       "</div>"
      ],
      "text/plain": [
       "       reviewerID        asin                                reviewerName  \\\n",
       "0  A3DYUOR91TPV64  1612432379          Patricia Todd-Dennis \"swanniegirl\"   \n",
       "1  A1ETQV3DF7X9C8  1612432441           Bernard W. Martin \"Bernie Martin\"   \n",
       "2  A1X8JK7GINGMXA  1612432441                                     Melissa   \n",
       "3  A2VFQR6Y4VEKSQ  1612432441         Moonslice \"(the world's fish tank)\"   \n",
       "4  A2RMD12V8QKV1E  1612432441  Parent-twokids \"Father of two little ones\"   \n",
       "\n",
       "  helpful                                         reviewText  overall  \\\n",
       "0  [2, 2]  Stop what you are doing right now.  Do you hav...      5.0   \n",
       "1  [0, 0]  A romance language would help learn like Frenc...      5.0   \n",
       "2  [0, 0]  For someone that loves French or for a student...      5.0   \n",
       "3  [2, 2]  I'm using this to learn French better and it's...      5.0   \n",
       "4  [1, 1]  I am French and this book is my 6 year old gir...      5.0   \n",
       "\n",
       "                                             summary  unixReviewTime  \\\n",
       "0       This Is Just The Cookbook For An Adventurer!      1384560000   \n",
       "1  It is imperative for grandchildren to learn ot...      1389139200   \n",
       "2                                  Great unique gift      1391126400   \n",
       "3   Great for Learning French, Cute Stocking Stuffer      1384819200   \n",
       "4  Nice translation and a nice way to enjoy a cla...      1388793600   \n",
       "\n",
       "    reviewTime  \n",
       "0  11 16, 2013  \n",
       "1   01 8, 2014  \n",
       "2  01 31, 2014  \n",
       "3  11 19, 2013  \n",
       "4   01 4, 2014  "
      ]
     },
     "execution_count": 90,
     "metadata": {},
     "output_type": "execute_result"
    }
   ],
   "source": [
    "df_pt1.head()"
   ]
  },
  {
   "cell_type": "code",
   "execution_count": null,
   "metadata": {
    "collapsed": true
   },
   "outputs": [],
   "source": []
  }
 ],
 "metadata": {
  "kernelspec": {
   "display_name": "Python 3",
   "language": "python",
   "name": "python3"
  },
  "language_info": {
   "codemirror_mode": {
    "name": "ipython",
    "version": 3
   },
   "file_extension": ".py",
   "mimetype": "text/x-python",
   "name": "python",
   "nbconvert_exporter": "python",
   "pygments_lexer": "ipython3",
   "version": "3.6.1"
  }
 },
 "nbformat": 4,
 "nbformat_minor": 0
}
